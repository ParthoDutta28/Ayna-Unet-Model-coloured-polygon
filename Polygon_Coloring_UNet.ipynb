{
  "nbformat": 4,
  "nbformat_minor": 0,
  "metadata": {
    "colab": {
      "provenance": [],
      "mount_file_id": "1mFUnCT0Od7Cvi30tOp4HvpJY6TyjSKIk",
      "authorship_tag": "ABX9TyMoM5txuB8TcRqOIRFrDJQL",
      "include_colab_link": true
    },
    "kernelspec": {
      "name": "python3",
      "display_name": "Python 3"
    },
    "language_info": {
      "name": "python"
    }
  },
  "cells": [
    {
      "cell_type": "markdown",
      "metadata": {
        "id": "view-in-github",
        "colab_type": "text"
      },
      "source": [
        "<a href=\"https://colab.research.google.com/github/ParthoDutta28/Ayna-Unet-Model-coloured-polygon/blob/main/Polygon_Coloring_UNet.ipynb\" target=\"_parent\"><img src=\"https://colab.research.google.com/assets/colab-badge.svg\" alt=\"Open In Colab\"/></a>"
      ]
    },
    {
      "cell_type": "code",
      "execution_count": null,
      "metadata": {
        "id": "mszgA9yIOng_"
      },
      "outputs": [],
      "source": [
        "!pip install wandb"
      ]
    },
    {
      "cell_type": "markdown",
      "source": [
        "# **here we a login into wandb for weight and biases**"
      ],
      "metadata": {
        "id": "NfjPL1uuR9IQ"
      }
    },
    {
      "cell_type": "code",
      "source": [
        "import wandb\n",
        "wandb.login()#API key - 374824102dd0fad0e438f2b318260c894269b32a"
      ],
      "metadata": {
        "id": "9R8l7ZaUQl4o"
      },
      "execution_count": null,
      "outputs": []
    },
    {
      "cell_type": "markdown",
      "source": [
        "# **Unzipping Dataset**"
      ],
      "metadata": {
        "id": "zAelqtelSNnV"
      }
    },
    {
      "cell_type": "code",
      "source": [
        "from google.colab import files\n",
        "uploaded = files.upload()\n",
        "\n",
        "import zipfile\n",
        "with zipfile.ZipFile('dataset.zip', 'r') as zip_ref: # uploading the given dataset and then unzipping it for further process\n",
        "    zip_ref.extractall('dataset')"
      ],
      "metadata": {
        "id": "X0PwJyrzJG1m"
      },
      "execution_count": null,
      "outputs": []
    },
    {
      "cell_type": "code",
      "source": [
        "import os\n",
        "import json\n",
        "import torch\n",
        "import torch.nn as nn\n",
        "from torchvision import transforms\n",
        "from torch.utils.data import Dataset, DataLoader\n",
        "from PIL import Image\n",
        "import matplotlib.pyplot as plt\n",
        "import numpy as np\n",
        "import wandb\n",
        "wandb.init(project=\"ayna-polygon-colorizer\", name=\"unet-colab-run\")\n",
        "\n",
        "# Setting device\n",
        "device = torch.device(\"cuda\" if torch.cuda.is_available() else \"cpu\")\n"
      ],
      "metadata": {
        "collapsed": true,
        "id": "Lbwkwoy6TG8K"
      },
      "execution_count": null,
      "outputs": []
    },
    {
      "cell_type": "markdown",
      "source": [
        "# **Transforming and using encoding to asign value to colours**"
      ],
      "metadata": {
        "id": "voVlRJnqWKf0"
      }
    },
    {
      "cell_type": "code",
      "source": [
        "class PolygonDataset(Dataset):\n",
        "    def __init__(self, data_json_path, input_dir, output_dir, color_dict, transform=None):\n",
        "        with open(data_json_path, \"r\") as f:\n",
        "            self.data = json.load(f)\n",
        "        self.input_dir = input_dir\n",
        "        self.output_dir = output_dir\n",
        "        self.transform = transform\n",
        "        self.color_dict = color_dict\n",
        "\n",
        "    def __len__(self):\n",
        "        return len(self.data)\n",
        "\n",
        "    def __getitem__(self, idx):\n",
        "        sample = self.data[idx]\n",
        "\n",
        "        polygon_path = os.path.join(self.input_dir, sample['input_polygon'])\n",
        "        output_path = os.path.join(self.output_dir, sample['output_image'])\n",
        "        color_name = sample['colour']\n",
        "\n",
        "        polygon_img = Image.open(polygon_path).convert('RGB')\n",
        "        output_img = Image.open(output_path).convert('RGB')\n",
        "\n",
        "        if self.transform:\n",
        "            polygon_img = self.transform(polygon_img)\n",
        "            output_img = self.transform(output_img)\n",
        "\n",
        "        color_tensor = torch.tensor(self.color_dict[color_name], dtype=torch.float32)\n",
        "\n",
        "        return {\n",
        "            \"polygon\": polygon_img,\n",
        "            \"color\": color_tensor,\n",
        "            \"target\": output_img\n",
        "        }"
      ],
      "metadata": {
        "id": "GG2oS2hwYVqZ"
      },
      "execution_count": null,
      "outputs": []
    },
    {
      "cell_type": "code",
      "source": [
        "transform = transforms.Compose([\n",
        "    transforms.Resize((128, 128)),\n",
        "    transforms.ToTensor()\n",
        "])\n",
        "\n",
        "color_dict = {\n",
        "    \"red\": [1, 0, 0],\n",
        "    \"green\": [0, 1, 0],\n",
        "    \"blue\": [0, 0, 1],\n",
        "    \"yellow\": [1, 1, 0],\n",
        "    \"cyan\": [0, 1, 1],\n",
        "    \"magenta\": [1, 0, 1],\n",
        "    \"orange\": [1, 0.5, 0],\n",
        "    \"purple\": [0.5, 0, 0.5]\n",
        "}\n"
      ],
      "metadata": {
        "id": "onL6Uv0FTzBX"
      },
      "execution_count": null,
      "outputs": []
    },
    {
      "cell_type": "markdown",
      "source": [],
      "metadata": {
        "id": "fGjpBL1LXKHx"
      }
    },
    {
      "cell_type": "code",
      "source": [
        "train_dataset = PolygonDataset(\n",
        "    data_json_path=\"/content/dataset/dataset/training/data.json\",\n",
        "    input_dir=\"/content/dataset/dataset/training/inputs\",\n",
        "    output_dir=\"/content/dataset/dataset/training/outputs\",\n",
        "    color_dict=color_dict,\n",
        "    transform=transform\n",
        ")\n",
        "\n",
        "val_dataset = PolygonDataset(\n",
        "    data_json_path=\"/content/dataset/dataset/validation/data.json\",\n",
        "    input_dir=\"/content/dataset/dataset/validation/inputs\",\n",
        "    output_dir=\"/content/dataset/dataset/validation/outputs\",\n",
        "    color_dict=color_dict,\n",
        "    transform=transform\n",
        ")\n",
        "\n",
        "train_loader = DataLoader(train_dataset, batch_size=16, shuffle=True)\n",
        "val_loader = DataLoader(val_dataset, batch_size=16, shuffle=False)\n"
      ],
      "metadata": {
        "id": "IhmpTifaT3Hk"
      },
      "execution_count": null,
      "outputs": []
    },
    {
      "cell_type": "markdown",
      "source": [
        "# **UNet Model Implementation**"
      ],
      "metadata": {
        "id": "iK_VXyJEcVml"
      }
    },
    {
      "cell_type": "code",
      "source": [
        "import torch.nn.functional as F\n",
        "\n",
        "class UNet(nn.Module):\n",
        "    def __init__(self, in_channels=6, out_channels=3):\n",
        "        super(UNet, self).__init__()\n",
        "\n",
        "        def conv_block(in_c, out_c):\n",
        "            return nn.Sequential(\n",
        "                nn.Conv2d(in_c, out_c, kernel_size=3, padding=1),\n",
        "                nn.BatchNorm2d(out_c),\n",
        "                nn.ReLU(inplace=True),\n",
        "                nn.Conv2d(out_c, out_c, kernel_size=3, padding=1),\n",
        "                nn.BatchNorm2d(out_c),\n",
        "                nn.ReLU(inplace=True)\n",
        "            )\n",
        "\n",
        "        self.enc1 = conv_block(in_channels, 64)\n",
        "        self.enc2 = conv_block(64, 128)\n",
        "        self.enc3 = conv_block(128, 256)\n",
        "        self.enc4 = conv_block(256, 512)\n",
        "\n",
        "        self.pool = nn.MaxPool2d(2)\n",
        "\n",
        "        self.bottleneck = conv_block(512, 1024)\n",
        "\n",
        "        self.upconv4 = nn.ConvTranspose2d(1024, 512, 2, 2)\n",
        "        self.dec4 = conv_block(1024, 512)\n",
        "\n",
        "        self.upconv3 = nn.ConvTranspose2d(512, 256, 2, 2)\n",
        "        self.dec3 = conv_block(512, 256)\n",
        "\n",
        "        self.upconv2 = nn.ConvTranspose2d(256, 128, 2, 2)\n",
        "        self.dec2 = conv_block(256, 128)\n",
        "\n",
        "        self.upconv1 = nn.ConvTranspose2d(128, 64, 2, 2)\n",
        "        self.dec1 = conv_block(128, 64)\n",
        "\n",
        "        self.final = nn.Conv2d(64, out_channels, kernel_size=1)\n",
        "\n",
        "    def forward(self, x):\n",
        "        # Encoder\n",
        "        e1 = self.enc1(x)\n",
        "        e2 = self.enc2(self.pool(e1))\n",
        "        e3 = self.enc3(self.pool(e2))\n",
        "        e4 = self.enc4(self.pool(e3))\n",
        "\n",
        "        # Bottleneck\n",
        "        b = self.bottleneck(self.pool(e4))\n",
        "\n",
        "        # Decoder\n",
        "        d4 = self.upconv4(b)\n",
        "        d4 = self.dec4(torch.cat([d4, e4], dim=1))\n",
        "\n",
        "        d3 = self.upconv3(d4)\n",
        "        d3 = self.dec3(torch.cat([d3, e3], dim=1))\n",
        "\n",
        "        d2 = self.upconv2(d3)\n",
        "        d2 = self.dec2(torch.cat([d2, e2], dim=1))\n",
        "\n",
        "        d1 = self.upconv1(d2)\n",
        "        d1 = self.dec1(torch.cat([d1, e1], dim=1))\n",
        "\n",
        "        return torch.sigmoid(self.final(d1))  # output image with 3 channels\n"
      ],
      "metadata": {
        "id": "lCuzQCgNUmw1"
      },
      "execution_count": null,
      "outputs": []
    },
    {
      "cell_type": "code",
      "source": [
        "model = UNet(in_channels=6, out_channels=3).to(device)"
      ],
      "metadata": {
        "id": "VZZ18AqpUtJ5"
      },
      "execution_count": null,
      "outputs": []
    },
    {
      "cell_type": "markdown",
      "source": [
        "# **Loss Function & Optimizer and Model Training Loop**\n",
        "\n",
        "---\n"
      ],
      "metadata": {
        "id": "Ms1GBA5ccikQ"
      }
    },
    {
      "cell_type": "code",
      "source": [
        "import torch.optim as optim\n",
        "import wandb\n",
        "\n",
        "# Define loss and optimizer\n",
        "criterion = nn.MSELoss()\n",
        "optimizer = optim.Adam(model.parameters(), lr=1e-4)\n",
        "\n",
        "EPOCHS = 20\n",
        "\n",
        "for epoch in range(EPOCHS):\n",
        "    model.train()\n",
        "    total_loss = 0\n",
        "\n",
        "    for batch in train_loader:\n",
        "        poly_img = batch['polygon'].to(device)\n",
        "        color_vec = batch['color'].to(device)\n",
        "        target_img = batch['target'].to(device)\n",
        "\n",
        "        # Create color image tensor\n",
        "        color_img = color_vec.view(-1, 3, 1, 1).repeat(1, 1, 128, 128)\n",
        "\n",
        "        # Concatenate inputs\n",
        "        input_tensor = torch.cat((poly_img, color_img), dim=1)\n",
        "\n",
        "        # Forward pass\n",
        "        output = model(input_tensor)\n",
        "        loss = criterion(output, target_img)\n",
        "\n",
        "        # Backward pass + optimize\n",
        "        optimizer.zero_grad()\n",
        "        loss.backward()\n",
        "        optimizer.step()\n",
        "\n",
        "        total_loss += loss.item()\n",
        "\n",
        "    avg_loss = total_loss / len(train_loader)\n",
        "    try:\n",
        "        wandb.log({\"Epoch\": epoch + 1, \"Loss\": avg_loss})\n",
        "    except Exception as e:\n",
        "        print(\"W&B log error:\", e)\n",
        "\n",
        "    print(f\"Epoch [{epoch+1}/{EPOCHS}], Loss: {avg_loss:.4f}\")\n"
      ],
      "metadata": {
        "id": "Y4lWQ2JMahvC"
      },
      "execution_count": null,
      "outputs": []
    },
    {
      "cell_type": "markdown",
      "source": [
        "# **Inference & Visualization**"
      ],
      "metadata": {
        "id": "aDlFanCcj8xI"
      }
    },
    {
      "cell_type": "code",
      "source": [
        "import matplotlib.pyplot as plt\n",
        "\n",
        "# Put model in eval mode\n",
        "model.eval()\n",
        "\n",
        "# Get one sample from the test set (or train set if you don’t have test set)\n",
        "sample = train_dataset[0]\n",
        "\n",
        "# Prepare input\n",
        "polygon = sample['polygon'].unsqueeze(0).to(device)           # [1, 3, H, W]\n",
        "color_vec = sample['color'].unsqueeze(0).to(device)           # [1, 3]\n",
        "color_img = color_vec.view(-1, 3, 1, 1).repeat(1, 1, 128, 128) # [1, 3, H, W]\n",
        "input_tensor = torch.cat((polygon, color_img), dim=1)         # [1, 6, H, W]\n",
        "\n",
        "# Predict\n",
        "with torch.no_grad():\n",
        "    output = model(input_tensor).squeeze(0).cpu()             # [3, H, W]\n",
        "\n",
        "# Convert tensors to numpy images\n",
        "def to_numpy(tensor_img):\n",
        "    return np.transpose(tensor_img.numpy(), (1, 2, 0))\n",
        "\n",
        "pred_img = to_numpy(output).clip(0, 1)\n",
        "input_polygon = to_numpy(sample['polygon'])\n",
        "target_img = to_numpy(sample['target'])\n",
        "\n",
        "# Plot\n",
        "plt.figure(figsize=(12, 4))\n",
        "plt.subplot(1, 3, 1)\n",
        "plt.title(\"Input Polygon\")\n",
        "plt.imshow(input_polygon)\n",
        "\n",
        "plt.subplot(1, 3, 2)\n",
        "plt.title(\"Target Colored\")\n",
        "plt.imshow(target_img)\n",
        "\n",
        "plt.subplot(1, 3, 3)\n",
        "plt.title(\"Predicted Output\")\n",
        "plt.imshow(pred_img)\n",
        "\n",
        "plt.show()\n"
      ],
      "metadata": {
        "id": "ZN1ZCLD_IAxm"
      },
      "execution_count": null,
      "outputs": []
    },
    {
      "cell_type": "code",
      "source": [
        "# Function to load and prepare image + color\n",
        "def predict_polygon_color(polygon_image_path, color_name, model, color_dict, transform):\n",
        "    model.eval()\n",
        "\n",
        "    image = Image.open(polygon_image_path).convert('RGB')\n",
        "    image = transform(image).unsqueeze(0).to(device)\n",
        "\n",
        "    color_vector = torch.tensor(color_dict[color_name], dtype=torch.float32).view(1, 3, 1, 1).to(device)\n",
        "    color_img = color_vector.repeat(1, 1, 128, 128)\n",
        "\n",
        "    input_tensor = torch.cat((image, color_img), dim=1)\n",
        "\n",
        "    with torch.no_grad():\n",
        "        output = model(input_tensor).squeeze(0).cpu()\n",
        "\n",
        "    output_image = transforms.ToPILImage()(output.clamp(0, 1))\n",
        "    return output_image\n"
      ],
      "metadata": {
        "id": "tXLeHdIlLpU4"
      },
      "execution_count": null,
      "outputs": []
    },
    {
      "cell_type": "code",
      "source": [
        "# Example\n",
        "test_path = \"/content/dataset/dataset/validation/inputs/octagon.png\"\n",
        "pred_img = predict_polygon_color(test_path, \"cyan\", model, color_dict, transform)\n",
        "\n",
        "# display result\n",
        "plt.imshow(pred_img)\n",
        "plt.axis(\"off\")\n",
        "plt.title(\"Predicted Colored Polygon\")\n",
        "plt.show()\n"
      ],
      "metadata": {
        "id": "6I4jQZ7vLrsZ"
      },
      "execution_count": null,
      "outputs": []
    },
    {
      "cell_type": "code",
      "source": [
        "import ipywidgets as widgets\n",
        "from IPython.display import display\n",
        "\n",
        "shape_widget = widgets.Dropdown(options=[\"triangle\", \"square\", \"octagon\",\"star\",\"circle\",\"diamond\",\"hexagon\",\"pentagon\"], description='Shape:')\n",
        "color_widget = widgets.Dropdown(options=list(color_dict.keys()), description='Color:')\n",
        "display(shape_widget, color_widget)"
      ],
      "metadata": {
        "id": "J-sKsX9YMSCp"
      },
      "execution_count": null,
      "outputs": []
    },
    {
      "cell_type": "code",
      "source": [
        "import torch\n",
        "from PIL import Image\n",
        "import matplotlib.pyplot as plt\n",
        "\n",
        "# Load the selected polygon image for visualization\n",
        "input_path = f\"/content/dataset/dataset/training/inputs/{shape_widget.value}.png\"\n",
        "polygon_img = Image.open(input_path).convert(\"RGB\")\n",
        "polygon_tensor = transform(polygon_img).unsqueeze(0).to(device)  # Shape: [1, 3, 128, 128]\n",
        "\n",
        "# Get the selected color and create color tensor\n",
        "color_tensor = torch.tensor(color_dict[color_widget.value], dtype=torch.float32).view(1, 3, 1, 1)\n",
        "color_tensor = color_tensor.repeat(1, 1, 128, 128).to(device)  # Shape: [1, 3, 128, 128]\n",
        "\n",
        "# Combine inputs\n",
        "input_tensor = torch.cat((polygon_tensor, color_tensor), dim=1)  # Shape: [1, 6, 128, 128]\n",
        "\n",
        "# Generate output from the model\n",
        "model.eval()\n",
        "with torch.no_grad():\n",
        "    output = model(input_tensor).squeeze(0).cpu().permute(1, 2, 0).numpy()\n",
        "\n",
        "# Display the output image\n",
        "plt.imshow(output)\n",
        "plt.axis(\"off\")\n",
        "plt.title(f\"Colored {shape_widget.value} in {color_widget.value}\")\n",
        "plt.show()\n"
      ],
      "metadata": {
        "id": "waEuzMGpNnP_"
      },
      "execution_count": null,
      "outputs": []
    },
    {
      "cell_type": "code",
      "source": [
        "torch.save(model.state_dict(), \"unet_polygon_colorizer.pth\")\n"
      ],
      "metadata": {
        "id": "HilYBaJ5Oq1s"
      },
      "execution_count": null,
      "outputs": []
    },
    {
      "cell_type": "code",
      "source": [
        "# Clean current notebook for GitHub compatibility\n",
        "!jupyter nbconvert --ClearMetadataPreprocessor.enabled=True --clear-output --inplace Polygon_Coloring_UNet.ipynb\n",
        "\n"
      ],
      "metadata": {
        "id": "9uhkxmozynh7"
      },
      "execution_count": null,
      "outputs": []
    }
  ]
}